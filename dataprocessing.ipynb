{
 "cells": [
  {
   "cell_type": "markdown",
   "metadata": {},
   "source": [
    "# Clean and Pre-process BPIC'2011 Dataset \n",
    "\n",
    "## Dataset description\n",
    "\n",
    "The raw dataset includes\n",
    "\n",
    "## Import library"
   ]
  },
  {
   "cell_type": "code",
   "execution_count": 1,
   "metadata": {},
   "outputs": [
    {
     "name": "stdout",
     "output_type": "stream",
     "text": [
      "Requirement already satisfied: natsort in c:\\users\\mithr\\anaconda3\\envs\\eventlog\\lib\\site-packages (7.1.1)\n"
     ]
    }
   ],
   "source": [
    "import os\n",
    "import pandas as pd\n",
    "import json\n",
    "!pip install natsort\n",
    "from natsort import natsorted\n",
    "import numpy as np\n",
    "# from collections import Counter\n",
    "from datetime import datetime\n",
    "from dateutil.relativedelta import relativedelta"
   ]
  },
  {
   "cell_type": "markdown",
   "metadata": {},
   "source": [
    "## Set Working Folders"
   ]
  },
  {
   "cell_type": "code",
   "execution_count": 2,
   "metadata": {},
   "outputs": [],
   "source": [
    "folder = os.getcwd()\n",
    "raw_path = os.path.join(folder, \"raw_data\")\n",
    "processed_path = os.path.join(folder, \"processed_data\")\n"
   ]
  },
  {
   "cell_type": "markdown",
   "metadata": {},
   "source": [
    "## Read dataset from CSV file"
   ]
  },
  {
   "cell_type": "code",
   "execution_count": 3,
   "metadata": {},
   "outputs": [
    {
     "data": {
      "text/plain": [
       "(150291, 128)"
      ]
     },
     "execution_count": 3,
     "metadata": {},
     "output_type": "execute_result"
    }
   ],
   "source": [
    "csv_file = os.path.join(raw_path, \"Hospital log.csv\")\n",
    "\n",
    "raw_data = pd.read_csv(csv_file, sep=\";\", low_memory=False)\n",
    "\n",
    "# show all columns\n",
    "pd.set_option('display.max_columns', None)\n",
    "\n",
    "df = raw_data\n",
    "df.shape"
   ]
  },
  {
   "cell_type": "markdown",
   "metadata": {},
   "source": [
    "## Data cleaning process \n",
    "\n",
    "...\n",
    "\n",
    "### Step 1: Deleting irrelevant attributes\n",
    "\n",
    "- Attributes for traces \n",
    "    - case:concept:name \n",
    "    - Age, Age:1-15\n",
    "    - ~~Diagnosis, Diagnosis:1-15~~\n",
    "    - Diagnosis code, Diagnosis code:1-15\n",
    "    - Treatment code, Treatment code:1-15\n",
    "    - Diagnosis Treatment Combination ID, Diagnosis Treatment Combination ID:1-15\n",
    "    - ~~Specialism code, Specialism code:1-15~~\n",
    "    - Start date, Start date:1-15\n",
    "    - End date, End date:1-15\n",
    "\n",
    "\n",
    "- Attributes for events\n",
    "    - org:group\n",
    "    - Number of executions\n",
    "    - ~~Specialism code~~\n",
    "    - event:concept:name\n",
    "    - Producer code\n",
    "    - Section\n",
    "    - Activity code\n",
    "    - time:timestamp\n",
    "    - ~~lifecycle:transition~~"
   ]
  },
  {
   "cell_type": "code",
   "execution_count": 4,
   "metadata": {},
   "outputs": [
    {
     "data": {
      "text/plain": [
       "(150291, 94)"
      ]
     },
     "execution_count": 4,
     "metadata": {},
     "output_type": "execute_result"
    }
   ],
   "source": [
    "# Clean all columns with \"Diagnosis Treatment Combination ID\", \"Specialism code\" and \"lifecycle:transition\"\n",
    "df = df.loc[:,~df.columns.str.startswith('Diagnosis:')]\n",
    "df = df.drop(columns='Diagnosis')\n",
    "df = df.loc[:,~df.columns.str.startswith('Specialism code')] \n",
    "df = df.loc[:,~df.columns.str.startswith('lifecycle:transition')]\n",
    "df = df.drop(columns='Unnamed: 127')\n",
    "df.shape\n"
   ]
  },
  {
   "cell_type": "markdown",
   "metadata": {},
   "source": [
    "### Step 2: Combining repeating features to a list"
   ]
  },
  {
   "cell_type": "markdown",
   "metadata": {
    "tags": []
   },
   "source": [
    "Cleaning method from IEEE-XAI paper:"
   ]
  },
  {
   "cell_type": "code",
   "execution_count": 5,
   "metadata": {},
   "outputs": [
    {
     "data": {
      "text/html": [
       "<div>\n",
       "<style scoped>\n",
       "    .dataframe tbody tr th:only-of-type {\n",
       "        vertical-align: middle;\n",
       "    }\n",
       "\n",
       "    .dataframe tbody tr th {\n",
       "        vertical-align: top;\n",
       "    }\n",
       "\n",
       "    .dataframe thead th {\n",
       "        text-align: right;\n",
       "    }\n",
       "</style>\n",
       "<table border=\"1\" class=\"dataframe\">\n",
       "  <thead>\n",
       "    <tr style=\"text-align: right;\">\n",
       "      <th></th>\n",
       "      <th>Activity code</th>\n",
       "      <th>Age</th>\n",
       "      <th>Age:1</th>\n",
       "      <th>Age:2</th>\n",
       "      <th>Age:3</th>\n",
       "      <th>Age:4</th>\n",
       "      <th>Age:5</th>\n",
       "      <th>Diagnosis Treatment Combination ID</th>\n",
       "      <th>Diagnosis Treatment Combination ID:1</th>\n",
       "      <th>Diagnosis Treatment Combination ID:2</th>\n",
       "      <th>Diagnosis Treatment Combination ID:3</th>\n",
       "      <th>Diagnosis Treatment Combination ID:4</th>\n",
       "      <th>Diagnosis Treatment Combination ID:5</th>\n",
       "      <th>Diagnosis Treatment Combination ID:6</th>\n",
       "      <th>Diagnosis Treatment Combination ID:7</th>\n",
       "      <th>Diagnosis Treatment Combination ID:8</th>\n",
       "      <th>Diagnosis Treatment Combination ID:9</th>\n",
       "      <th>Diagnosis Treatment Combination ID:10</th>\n",
       "      <th>Diagnosis Treatment Combination ID:11</th>\n",
       "      <th>Diagnosis Treatment Combination ID:12</th>\n",
       "      <th>Diagnosis Treatment Combination ID:13</th>\n",
       "      <th>Diagnosis Treatment Combination ID:14</th>\n",
       "      <th>Diagnosis Treatment Combination ID:15</th>\n",
       "      <th>Diagnosis code</th>\n",
       "      <th>Diagnosis code:1</th>\n",
       "      <th>Diagnosis code:2</th>\n",
       "      <th>Diagnosis code:3</th>\n",
       "      <th>Diagnosis code:4</th>\n",
       "      <th>Diagnosis code:5</th>\n",
       "      <th>Diagnosis code:6</th>\n",
       "      <th>Diagnosis code:7</th>\n",
       "      <th>Diagnosis code:8</th>\n",
       "      <th>Diagnosis code:9</th>\n",
       "      <th>Diagnosis code:10</th>\n",
       "      <th>Diagnosis code:11</th>\n",
       "      <th>Diagnosis code:12</th>\n",
       "      <th>Diagnosis code:13</th>\n",
       "      <th>Diagnosis code:14</th>\n",
       "      <th>Diagnosis code:15</th>\n",
       "      <th>End date</th>\n",
       "      <th>End date:1</th>\n",
       "      <th>End date:2</th>\n",
       "      <th>End date:3</th>\n",
       "      <th>End date:4</th>\n",
       "      <th>End date:5</th>\n",
       "      <th>End date:6</th>\n",
       "      <th>End date:7</th>\n",
       "      <th>End date:8</th>\n",
       "      <th>End date:9</th>\n",
       "      <th>End date:10</th>\n",
       "      <th>End date:11</th>\n",
       "      <th>End date:12</th>\n",
       "      <th>End date:13</th>\n",
       "      <th>End date:14</th>\n",
       "      <th>End date:15</th>\n",
       "      <th>Number of executions</th>\n",
       "      <th>Producer code</th>\n",
       "      <th>Section</th>\n",
       "      <th>Start date</th>\n",
       "      <th>Start date:1</th>\n",
       "      <th>Start date:2</th>\n",
       "      <th>Start date:3</th>\n",
       "      <th>Start date:4</th>\n",
       "      <th>Start date:5</th>\n",
       "      <th>Start date:6</th>\n",
       "      <th>Start date:7</th>\n",
       "      <th>Start date:8</th>\n",
       "      <th>Start date:9</th>\n",
       "      <th>Start date:10</th>\n",
       "      <th>Start date:11</th>\n",
       "      <th>Start date:12</th>\n",
       "      <th>Start date:13</th>\n",
       "      <th>Start date:14</th>\n",
       "      <th>Start date:15</th>\n",
       "      <th>Treatment code</th>\n",
       "      <th>Treatment code:1</th>\n",
       "      <th>Treatment code:2</th>\n",
       "      <th>Treatment code:3</th>\n",
       "      <th>Treatment code:4</th>\n",
       "      <th>Treatment code:5</th>\n",
       "      <th>Treatment code:6</th>\n",
       "      <th>Treatment code:7</th>\n",
       "      <th>Treatment code:8</th>\n",
       "      <th>Treatment code:9</th>\n",
       "      <th>Treatment code:10</th>\n",
       "      <th>Treatment code:11</th>\n",
       "      <th>Treatment code:12</th>\n",
       "      <th>Treatment code:13</th>\n",
       "      <th>Treatment code:14</th>\n",
       "      <th>Treatment code:15</th>\n",
       "      <th>case:concept:name</th>\n",
       "      <th>event:concept:name</th>\n",
       "      <th>org:group</th>\n",
       "      <th>time:timestamp</th>\n",
       "    </tr>\n",
       "  </thead>\n",
       "  <tbody>\n",
       "    <tr>\n",
       "      <th>0</th>\n",
       "      <td>410100</td>\n",
       "      <td>33.0</td>\n",
       "      <td>NaN</td>\n",
       "      <td>NaN</td>\n",
       "      <td>NaN</td>\n",
       "      <td>NaN</td>\n",
       "      <td>NaN</td>\n",
       "      <td>181229.0</td>\n",
       "      <td>376907.0</td>\n",
       "      <td>376908.0</td>\n",
       "      <td>NaN</td>\n",
       "      <td>NaN</td>\n",
       "      <td>NaN</td>\n",
       "      <td>NaN</td>\n",
       "      <td>NaN</td>\n",
       "      <td>NaN</td>\n",
       "      <td>NaN</td>\n",
       "      <td>NaN</td>\n",
       "      <td>NaN</td>\n",
       "      <td>NaN</td>\n",
       "      <td>NaN</td>\n",
       "      <td>NaN</td>\n",
       "      <td>NaN</td>\n",
       "      <td>M13</td>\n",
       "      <td>106</td>\n",
       "      <td>106</td>\n",
       "      <td>NaN</td>\n",
       "      <td>NaN</td>\n",
       "      <td>NaN</td>\n",
       "      <td>NaN</td>\n",
       "      <td>NaN</td>\n",
       "      <td>NaN</td>\n",
       "      <td>NaN</td>\n",
       "      <td>NaN</td>\n",
       "      <td>NaN</td>\n",
       "      <td>NaN</td>\n",
       "      <td>NaN</td>\n",
       "      <td>NaN</td>\n",
       "      <td>NaN</td>\n",
       "      <td>2006-01-04T23:45:36+01:00</td>\n",
       "      <td>2005-01-29T23:45:36+01:00</td>\n",
       "      <td>2005-01-29T23:45:36+01:00</td>\n",
       "      <td>NaN</td>\n",
       "      <td>NaN</td>\n",
       "      <td>NaN</td>\n",
       "      <td>NaN</td>\n",
       "      <td>NaN</td>\n",
       "      <td>NaN</td>\n",
       "      <td>NaN</td>\n",
       "      <td>NaN</td>\n",
       "      <td>NaN</td>\n",
       "      <td>NaN</td>\n",
       "      <td>NaN</td>\n",
       "      <td>NaN</td>\n",
       "      <td>NaN</td>\n",
       "      <td>1</td>\n",
       "      <td>SRTH</td>\n",
       "      <td>Section 5</td>\n",
       "      <td>2005-01-05T00:14:24+01:00</td>\n",
       "      <td>2005-01-03T00:14:24+01:00</td>\n",
       "      <td>2005-01-03T00:14:24+01:00</td>\n",
       "      <td>NaN</td>\n",
       "      <td>NaN</td>\n",
       "      <td>NaN</td>\n",
       "      <td>NaN</td>\n",
       "      <td>NaN</td>\n",
       "      <td>NaN</td>\n",
       "      <td>NaN</td>\n",
       "      <td>NaN</td>\n",
       "      <td>NaN</td>\n",
       "      <td>NaN</td>\n",
       "      <td>NaN</td>\n",
       "      <td>NaN</td>\n",
       "      <td>NaN</td>\n",
       "      <td>103.0</td>\n",
       "      <td>13.0</td>\n",
       "      <td>23.0</td>\n",
       "      <td>NaN</td>\n",
       "      <td>NaN</td>\n",
       "      <td>NaN</td>\n",
       "      <td>NaN</td>\n",
       "      <td>NaN</td>\n",
       "      <td>NaN</td>\n",
       "      <td>NaN</td>\n",
       "      <td>NaN</td>\n",
       "      <td>NaN</td>\n",
       "      <td>NaN</td>\n",
       "      <td>NaN</td>\n",
       "      <td>NaN</td>\n",
       "      <td>NaN</td>\n",
       "      <td>0</td>\n",
       "      <td>1e consult poliklinisch</td>\n",
       "      <td>Radiotherapy</td>\n",
       "      <td>2005-01-03T00:00:00+01:00</td>\n",
       "    </tr>\n",
       "  </tbody>\n",
       "</table>\n",
       "</div>"
      ],
      "text/plain": [
       "  Activity code   Age  Age:1  Age:2  Age:3  Age:4  Age:5  \\\n",
       "0        410100  33.0    NaN    NaN    NaN    NaN    NaN   \n",
       "\n",
       "   Diagnosis Treatment Combination ID  Diagnosis Treatment Combination ID:1  \\\n",
       "0                            181229.0                              376907.0   \n",
       "\n",
       "   Diagnosis Treatment Combination ID:2  Diagnosis Treatment Combination ID:3  \\\n",
       "0                              376908.0                                   NaN   \n",
       "\n",
       "   Diagnosis Treatment Combination ID:4  Diagnosis Treatment Combination ID:5  \\\n",
       "0                                   NaN                                   NaN   \n",
       "\n",
       "   Diagnosis Treatment Combination ID:6  Diagnosis Treatment Combination ID:7  \\\n",
       "0                                   NaN                                   NaN   \n",
       "\n",
       "   Diagnosis Treatment Combination ID:8  Diagnosis Treatment Combination ID:9  \\\n",
       "0                                   NaN                                   NaN   \n",
       "\n",
       "   Diagnosis Treatment Combination ID:10  \\\n",
       "0                                    NaN   \n",
       "\n",
       "   Diagnosis Treatment Combination ID:11  \\\n",
       "0                                    NaN   \n",
       "\n",
       "   Diagnosis Treatment Combination ID:12  \\\n",
       "0                                    NaN   \n",
       "\n",
       "   Diagnosis Treatment Combination ID:13  \\\n",
       "0                                    NaN   \n",
       "\n",
       "   Diagnosis Treatment Combination ID:14  \\\n",
       "0                                    NaN   \n",
       "\n",
       "   Diagnosis Treatment Combination ID:15 Diagnosis code Diagnosis code:1  \\\n",
       "0                                    NaN            M13              106   \n",
       "\n",
       "  Diagnosis code:2 Diagnosis code:3 Diagnosis code:4 Diagnosis code:5  \\\n",
       "0              106              NaN              NaN              NaN   \n",
       "\n",
       "   Diagnosis code:6  Diagnosis code:7  Diagnosis code:8  Diagnosis code:9  \\\n",
       "0               NaN               NaN               NaN               NaN   \n",
       "\n",
       "   Diagnosis code:10  Diagnosis code:11  Diagnosis code:12  Diagnosis code:13  \\\n",
       "0                NaN                NaN                NaN                NaN   \n",
       "\n",
       "   Diagnosis code:14  Diagnosis code:15                   End date  \\\n",
       "0                NaN                NaN  2006-01-04T23:45:36+01:00   \n",
       "\n",
       "                  End date:1                 End date:2 End date:3 End date:4  \\\n",
       "0  2005-01-29T23:45:36+01:00  2005-01-29T23:45:36+01:00        NaN        NaN   \n",
       "\n",
       "  End date:5 End date:6 End date:7 End date:8 End date:9 End date:10  \\\n",
       "0        NaN        NaN        NaN        NaN        NaN         NaN   \n",
       "\n",
       "  End date:11 End date:12 End date:13 End date:14 End date:15  \\\n",
       "0         NaN         NaN         NaN         NaN         NaN   \n",
       "\n",
       "   Number of executions Producer code    Section                 Start date  \\\n",
       "0                     1          SRTH  Section 5  2005-01-05T00:14:24+01:00   \n",
       "\n",
       "                Start date:1               Start date:2 Start date:3  \\\n",
       "0  2005-01-03T00:14:24+01:00  2005-01-03T00:14:24+01:00          NaN   \n",
       "\n",
       "  Start date:4 Start date:5 Start date:6 Start date:7 Start date:8  \\\n",
       "0          NaN          NaN          NaN          NaN          NaN   \n",
       "\n",
       "  Start date:9 Start date:10 Start date:11 Start date:12 Start date:13  \\\n",
       "0          NaN           NaN           NaN           NaN           NaN   \n",
       "\n",
       "  Start date:14 Start date:15  Treatment code  Treatment code:1  \\\n",
       "0           NaN           NaN           103.0              13.0   \n",
       "\n",
       "   Treatment code:2  Treatment code:3  Treatment code:4  Treatment code:5  \\\n",
       "0              23.0               NaN               NaN               NaN   \n",
       "\n",
       "   Treatment code:6  Treatment code:7  Treatment code:8  Treatment code:9  \\\n",
       "0               NaN               NaN               NaN               NaN   \n",
       "\n",
       "   Treatment code:10  Treatment code:11  Treatment code:12  Treatment code:13  \\\n",
       "0                NaN                NaN                NaN                NaN   \n",
       "\n",
       "   Treatment code:14  Treatment code:15  case:concept:name  \\\n",
       "0                NaN                NaN                  0   \n",
       "\n",
       "        event:concept:name     org:group             time:timestamp  \n",
       "0  1e consult poliklinisch  Radiotherapy  2005-01-03T00:00:00+01:00  "
      ]
     },
     "execution_count": 5,
     "metadata": {},
     "output_type": "execute_result"
    }
   ],
   "source": [
    "# Sort all columns in alphabetical order\n",
    "\n",
    "df = df.reindex(natsorted(df.columns), axis=1)\n",
    "df.head(1)"
   ]
  },
  {
   "cell_type": "code",
   "execution_count": 6,
   "metadata": {},
   "outputs": [],
   "source": [
    "# function for finding last valid value\n",
    "def findLastValid(x):\n",
    "    list_of_last_value = []\n",
    "    for index, row in x.iterrows():\n",
    "        if row.last_valid_index() is None:\n",
    "            list_of_last_value.append(np.nan)\n",
    "        else:\n",
    "            list_of_last_value.append(row[row.last_valid_index()])\n",
    "    \n",
    "    return list_of_last_value\n",
    "\n",
    "# function for finding the valid value list\n",
    "def findValidList(x):\n",
    "    list_of_values = []\n",
    "    for index, row in x.iterrows():\n",
    "        values = []\n",
    "        for i, v in row.items():\n",
    "            if pd.notnull(v):\n",
    "                values.append(v)\n",
    "        list_of_values.append(values)\n",
    "    \n",
    "    return list_of_values\n",
    "\n",
    "# function for finding most frequent element\n",
    "def mostFrequent(x):\n",
    "    list_of_values=[]\n",
    "    for case in x:\n",
    "        if len(case) == 0:\n",
    "            list_of_values.append(None)\n",
    "        else:\n",
    "            list_of_values.append(max(set(case), key = case.count))\n",
    "    return list_of_values\n"
   ]
  },
  {
   "cell_type": "code",
   "execution_count": 7,
   "metadata": {},
   "outputs": [],
   "source": [
    "# latest Age, Diagnosis Code, Treatment code, Diagnosis Treatment Combination ID\n",
    "Age_Latest = findLastValid(df.loc[:, df.columns.str.startswith('Age')])\n",
    "# DiagnosisCode_Latest = findLastValid(df.loc[:, df.columns.str.startswith('Diagnosis code')])\n",
    "# TreatmentCode_Latest = findLastValid(df.loc[:, df.columns.str.startswith('Treatment code')])\n",
    "# CombinationID_Latest = findLastValid(df.loc[:, df.columns.str.startswith('Diagnosis Treatment Combination ID')])\n",
    "\n",
    "# Age_List = findValidList(df.loc[:, df.columns.str.startswith('Age')])\n",
    "DiagnosisCode_List = findValidList(df.loc[:, df.columns.str.startswith('Diagnosis code')])\n",
    "DiagnosisCode_List = mostFrequent(DiagnosisCode_List)\n",
    "\n",
    "TreatmentCode_List = findValidList(df.loc[:, df.columns.str.startswith('Treatment code')])\n",
    "TreatmentCode_List = mostFrequent(TreatmentCode_List)\n",
    "\n",
    "CombinationID_List = findValidList(df.loc[:, df.columns.str.startswith('Diagnosis Treatment Combination ID')])\n",
    "CombinationID_List = mostFrequent(CombinationID_List)"
   ]
  },
  {
   "cell_type": "code",
   "execution_count": 8,
   "metadata": {},
   "outputs": [],
   "source": [
    "# Calculate year\n",
    "\n",
    "# total number of traces: 1143\n",
    "\n",
    "Year_list = []\n",
    "\n",
    "for case_id in range(1143):\n",
    "    year_df = df.loc[df['case:concept:name'] == case_id]\n",
    "    dateStart = datetime.strptime(year_df.iloc[0,-1], '%Y-%m-%dT%H:%M:%S%z')\n",
    "    dateEnd = datetime.strptime(year_df.iloc[-1,-1], '%Y-%m-%dT%H:%M:%S%z')\n",
    "    Year_list.append(relativedelta(dateEnd, dateStart).years)\n",
    "\n"
   ]
  },
  {
   "cell_type": "code",
   "execution_count": null,
   "metadata": {},
   "outputs": [],
   "source": []
  },
  {
   "cell_type": "markdown",
   "metadata": {},
   "source": [
    "The new dataframe should include these feaures: \n",
    "\n",
    "Activity, Department, Number of executions, Activitycode, Producer code, Section, Age, Diagnosis Code, Treatment code, Diagnosis Treatment Combination ID and Year."
   ]
  },
  {
   "cell_type": "code",
   "execution_count": 9,
   "metadata": {},
   "outputs": [],
   "source": [
    "processed_df = df[['case:concept:name', 'event:concept:name', 'org:group', 'time:timestamp', 'Activity code', 'Number of executions', 'Producer code', 'Section']]"
   ]
  },
  {
   "cell_type": "code",
   "execution_count": 10,
   "metadata": {},
   "outputs": [],
   "source": [
    "processed_df = processed_df.assign(Age = Age_Latest)\n",
    "processed_df = processed_df.assign(Diagnosis_code = DiagnosisCode_List)\n",
    "processed_df = processed_df.assign(Treatment_code = TreatmentCode_List)\n",
    "processed_df = processed_df.assign(CombinationID = CombinationID_List)"
   ]
  },
  {
   "cell_type": "code",
   "execution_count": 11,
   "metadata": {},
   "outputs": [],
   "source": [
    "def input_year(row):\n",
    "    return Year_list[row['case:concept:name']]\n",
    "\n",
    "processed_df['Total year'] = processed_df.apply(lambda x: input_year(x), axis=1)\n"
   ]
  },
  {
   "cell_type": "code",
   "execution_count": 12,
   "metadata": {},
   "outputs": [
    {
     "data": {
      "text/html": [
       "<div>\n",
       "<style scoped>\n",
       "    .dataframe tbody tr th:only-of-type {\n",
       "        vertical-align: middle;\n",
       "    }\n",
       "\n",
       "    .dataframe tbody tr th {\n",
       "        vertical-align: top;\n",
       "    }\n",
       "\n",
       "    .dataframe thead th {\n",
       "        text-align: right;\n",
       "    }\n",
       "</style>\n",
       "<table border=\"1\" class=\"dataframe\">\n",
       "  <thead>\n",
       "    <tr style=\"text-align: right;\">\n",
       "      <th></th>\n",
       "      <th>case:concept:name</th>\n",
       "      <th>event:concept:name</th>\n",
       "      <th>org:group</th>\n",
       "      <th>time:timestamp</th>\n",
       "      <th>Activity code</th>\n",
       "      <th>Number of executions</th>\n",
       "      <th>Producer code</th>\n",
       "      <th>Section</th>\n",
       "      <th>Age</th>\n",
       "      <th>Diagnosis_code</th>\n",
       "      <th>Treatment_code</th>\n",
       "      <th>CombinationID</th>\n",
       "      <th>Total year</th>\n",
       "    </tr>\n",
       "  </thead>\n",
       "  <tbody>\n",
       "    <tr>\n",
       "      <th>0</th>\n",
       "      <td>0</td>\n",
       "      <td>1e consult poliklinisch</td>\n",
       "      <td>Radiotherapy</td>\n",
       "      <td>2005-01-03T00:00:00+01:00</td>\n",
       "      <td>410100</td>\n",
       "      <td>1</td>\n",
       "      <td>SRTH</td>\n",
       "      <td>Section 5</td>\n",
       "      <td>33.0</td>\n",
       "      <td>106</td>\n",
       "      <td>23.0</td>\n",
       "      <td>376907.0</td>\n",
       "      <td>0</td>\n",
       "    </tr>\n",
       "    <tr>\n",
       "      <th>1</th>\n",
       "      <td>0</td>\n",
       "      <td>administratief tarief       - eerste pol</td>\n",
       "      <td>Radiotherapy</td>\n",
       "      <td>2005-01-03T00:00:00+01:00</td>\n",
       "      <td>419100</td>\n",
       "      <td>1</td>\n",
       "      <td>SRTH</td>\n",
       "      <td>Section 5</td>\n",
       "      <td>33.0</td>\n",
       "      <td>106</td>\n",
       "      <td>23.0</td>\n",
       "      <td>376907.0</td>\n",
       "      <td>0</td>\n",
       "    </tr>\n",
       "    <tr>\n",
       "      <th>2</th>\n",
       "      <td>0</td>\n",
       "      <td>verlosk.-gynaec. korte kaart kosten-out</td>\n",
       "      <td>Nursing ward</td>\n",
       "      <td>2005-01-05T00:00:00+01:00</td>\n",
       "      <td>10107</td>\n",
       "      <td>1</td>\n",
       "      <td>SGEH</td>\n",
       "      <td>Section 2</td>\n",
       "      <td>33.0</td>\n",
       "      <td>106</td>\n",
       "      <td>23.0</td>\n",
       "      <td>376907.0</td>\n",
       "      <td>0</td>\n",
       "    </tr>\n",
       "    <tr>\n",
       "      <th>3</th>\n",
       "      <td>0</td>\n",
       "      <td>echografie  - genitalia interna</td>\n",
       "      <td>Obstetrics &amp; Gynaecology clinic</td>\n",
       "      <td>2005-01-05T00:00:00+01:00</td>\n",
       "      <td>339486E</td>\n",
       "      <td>1</td>\n",
       "      <td>SGEC</td>\n",
       "      <td>Section 2</td>\n",
       "      <td>33.0</td>\n",
       "      <td>106</td>\n",
       "      <td>23.0</td>\n",
       "      <td>376907.0</td>\n",
       "      <td>0</td>\n",
       "    </tr>\n",
       "    <tr>\n",
       "      <th>4</th>\n",
       "      <td>0</td>\n",
       "      <td>1e consult poliklinisch</td>\n",
       "      <td>Nursing ward</td>\n",
       "      <td>2005-01-05T00:00:00+01:00</td>\n",
       "      <td>410100</td>\n",
       "      <td>1</td>\n",
       "      <td>SGEH</td>\n",
       "      <td>Section 2</td>\n",
       "      <td>33.0</td>\n",
       "      <td>106</td>\n",
       "      <td>23.0</td>\n",
       "      <td>376907.0</td>\n",
       "      <td>0</td>\n",
       "    </tr>\n",
       "  </tbody>\n",
       "</table>\n",
       "</div>"
      ],
      "text/plain": [
       "   case:concept:name                        event:concept:name  \\\n",
       "0                  0                   1e consult poliklinisch   \n",
       "1                  0  administratief tarief       - eerste pol   \n",
       "2                  0   verlosk.-gynaec. korte kaart kosten-out   \n",
       "3                  0           echografie  - genitalia interna   \n",
       "4                  0                   1e consult poliklinisch   \n",
       "\n",
       "                         org:group             time:timestamp Activity code  \\\n",
       "0                     Radiotherapy  2005-01-03T00:00:00+01:00        410100   \n",
       "1                     Radiotherapy  2005-01-03T00:00:00+01:00        419100   \n",
       "2                     Nursing ward  2005-01-05T00:00:00+01:00         10107   \n",
       "3  Obstetrics & Gynaecology clinic  2005-01-05T00:00:00+01:00       339486E   \n",
       "4                     Nursing ward  2005-01-05T00:00:00+01:00        410100   \n",
       "\n",
       "   Number of executions Producer code    Section   Age Diagnosis_code  \\\n",
       "0                     1          SRTH  Section 5  33.0            106   \n",
       "1                     1          SRTH  Section 5  33.0            106   \n",
       "2                     1          SGEH  Section 2  33.0            106   \n",
       "3                     1          SGEC  Section 2  33.0            106   \n",
       "4                     1          SGEH  Section 2  33.0            106   \n",
       "\n",
       "   Treatment_code  CombinationID  Total year  \n",
       "0            23.0       376907.0           0  \n",
       "1            23.0       376907.0           0  \n",
       "2            23.0       376907.0           0  \n",
       "3            23.0       376907.0           0  \n",
       "4            23.0       376907.0           0  "
      ]
     },
     "execution_count": 12,
     "metadata": {},
     "output_type": "execute_result"
    }
   ],
   "source": [
    "processed_df.head()"
   ]
  },
  {
   "cell_type": "markdown",
   "metadata": {},
   "source": [
    "### Step 3: Clean errors and missing values\n"
   ]
  },
  {
   "cell_type": "code",
   "execution_count": 13,
   "metadata": {},
   "outputs": [],
   "source": [
    "clean_df = processed_df\n",
    "\n",
    "clean_df = clean_df[clean_df['Number of executions'] > 0]\n",
    "\n",
    "activity_list = clean_df['event:concept:name'].value_counts().loc[lambda x : x>19].index.tolist()\n",
    "clean_df = clean_df[clean_df['event:concept:name'].isin(activity_list)]\n",
    "\n"
   ]
  },
  {
   "cell_type": "code",
   "execution_count": 14,
   "metadata": {},
   "outputs": [
    {
     "data": {
      "text/plain": [
       "case:concept:name       False\n",
       "event:concept:name      False\n",
       "org:group               False\n",
       "time:timestamp          False\n",
       "Activity code           False\n",
       "Number of executions    False\n",
       "Producer code           False\n",
       "Section                 False\n",
       "Age                     False\n",
       "Diagnosis_code          False\n",
       "Treatment_code           True\n",
       "CombinationID           False\n",
       "Total year              False\n",
       "dtype: bool"
      ]
     },
     "execution_count": 14,
     "metadata": {},
     "output_type": "execute_result"
    }
   ],
   "source": [
    "# clean_df.isnull().sum().sum()\n",
    "clean_df.isnull().any()"
   ]
  },
  {
   "cell_type": "code",
   "execution_count": 15,
   "metadata": {},
   "outputs": [
    {
     "data": {
      "text/plain": [
       "case:concept:name       False\n",
       "event:concept:name      False\n",
       "org:group               False\n",
       "time:timestamp          False\n",
       "Activity code           False\n",
       "Number of executions    False\n",
       "Producer code           False\n",
       "Section                 False\n",
       "Age                     False\n",
       "Diagnosis_code          False\n",
       "Treatment_code          False\n",
       "CombinationID           False\n",
       "Total year              False\n",
       "dtype: bool"
      ]
     },
     "execution_count": 15,
     "metadata": {},
     "output_type": "execute_result"
    }
   ],
   "source": [
    "filter_nan_treatment = clean_df[~clean_df['Treatment_code'].isnull()]\n",
    "filter_nan_treatment.isnull().any()\n",
    "# yes_nan = clean_df[~clean_df['Treatment_code'].isnull()]"
   ]
  },
  {
   "cell_type": "code",
   "execution_count": 16,
   "metadata": {},
   "outputs": [],
   "source": [
    "all_nan = clean_df[clean_df['Treatment_code'].isnull()]"
   ]
  },
  {
   "cell_type": "code",
   "execution_count": 17,
   "metadata": {},
   "outputs": [
    {
     "data": {
      "text/plain": [
       "case:concept:name       False\n",
       "event:concept:name      False\n",
       "org:group               False\n",
       "time:timestamp          False\n",
       "Activity code           False\n",
       "Number of executions    False\n",
       "Producer code           False\n",
       "Section                 False\n",
       "Age                     False\n",
       "Diagnosis_code          False\n",
       "Treatment_code           True\n",
       "CombinationID           False\n",
       "Total year              False\n",
       "dtype: bool"
      ]
     },
     "execution_count": 17,
     "metadata": {},
     "output_type": "execute_result"
    }
   ],
   "source": [
    "replace_nan_treatment = clean_df\n",
    "replace_nan_treatment.isnull().any()"
   ]
  },
  {
   "cell_type": "code",
   "execution_count": 18,
   "metadata": {},
   "outputs": [],
   "source": [
    "\n",
    "diag_and_treat = filter_nan_treatment[['Diagnosis_code','Treatment_code']]\n",
    "\n",
    "for index, row in all_nan.iterrows():\n",
    "    diag = row['Diagnosis_code']\n",
    "    \n",
    "    filterdf = diag_and_treat[(diag_and_treat['Diagnosis_code'] == diag)]\n",
    "    \n",
    "    replace_nan_treatment.loc[index, ['Treatment_code']] = filterdf['Treatment_code'].value_counts().index.tolist()[0]\n",
    "    "
   ]
  },
  {
   "cell_type": "code",
   "execution_count": 19,
   "metadata": {},
   "outputs": [
    {
     "data": {
      "text/plain": [
       "case:concept:name       False\n",
       "event:concept:name      False\n",
       "org:group               False\n",
       "time:timestamp          False\n",
       "Activity code           False\n",
       "Number of executions    False\n",
       "Producer code           False\n",
       "Section                 False\n",
       "Age                     False\n",
       "Diagnosis_code          False\n",
       "Treatment_code          False\n",
       "CombinationID           False\n",
       "Total year              False\n",
       "dtype: bool"
      ]
     },
     "execution_count": 19,
     "metadata": {},
     "output_type": "execute_result"
    }
   ],
   "source": [
    "replace_nan_treatment.isnull().any()"
   ]
  },
  {
   "cell_type": "code",
   "execution_count": 20,
   "metadata": {},
   "outputs": [
    {
     "name": "stdout",
     "output_type": "stream",
     "text": [
      "1142 1130\n"
     ]
    }
   ],
   "source": [
    "print(replace_nan_treatment[\"case:concept:name\"].nunique(), filter_nan_treatment['case:concept:name'].nunique())"
   ]
  },
  {
   "cell_type": "markdown",
   "metadata": {},
   "source": [
    "### Step 4: Output"
   ]
  },
  {
   "cell_type": "code",
   "execution_count": 21,
   "metadata": {},
   "outputs": [],
   "source": [
    "column_names = ['CaseID', 'Activity', 'Department', 'Timestamps', 'Activity code', \n",
    "                'Number of executions', 'Producer code', 'Section', 'Age', 'Diagnosis code', \n",
    "                'Treatment code', 'Diagnosis Treatment Combination ID', 'Year']\n",
    "replace_nan_treatment.columns = column_names\n",
    "filter_nan_treatment.columns = column_names\n"
   ]
  },
  {
   "cell_type": "code",
   "execution_count": null,
   "metadata": {},
   "outputs": [],
   "source": []
  },
  {
   "cell_type": "code",
   "execution_count": 25,
   "metadata": {},
   "outputs": [],
   "source": [
    "\n",
    "output_csv = os.path.join(processed_path, \"detele_nan_treatment (1130 cases).csv\")\n",
    "filter_nan_treatment.to_csv(output_csv)\n",
    "\n"
   ]
  },
  {
   "cell_type": "code",
   "execution_count": null,
   "metadata": {},
   "outputs": [],
   "source": []
  }
 ],
 "metadata": {
  "kernelspec": {
   "display_name": "Python 3",
   "language": "python",
   "name": "python3"
  },
  "language_info": {
   "codemirror_mode": {
    "name": "ipython",
    "version": 3
   },
   "file_extension": ".py",
   "mimetype": "text/x-python",
   "name": "python",
   "nbconvert_exporter": "python",
   "pygments_lexer": "ipython3",
   "version": "3.8.10"
  }
 },
 "nbformat": 4,
 "nbformat_minor": 4
}